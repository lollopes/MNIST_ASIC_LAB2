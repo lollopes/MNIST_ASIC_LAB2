{
 "cells": [
  {
   "cell_type": "markdown",
   "id": "9bcda493",
   "metadata": {},
   "source": [
    "# Importing Libraries\n",
    "\n",
    "In the following block we are just importing the main libraries used for creating a NN and processing its output"
   ]
  },
  {
   "cell_type": "code",
   "execution_count": 26,
   "id": "6d89f597",
   "metadata": {},
   "outputs": [],
   "source": [
    "from __future__ import print_function\n",
    "import argparse\n",
    "import torch\n",
    "import numpy as np\n",
    "import torch.nn as nn\n",
    "import torch.nn.functional as F\n",
    "import torch.optim as optim\n",
    "import pandas as pd\n",
    "from torch.utils.data import DataLoader\n",
    "from torchvision import datasets, transforms\n",
    "from torch.autograd import Variable\n",
    "from models.binarized_modules import  BinarizeLinear,BinarizeConv2d\n",
    "from models.binarized_modules import  Binarize,HingeLoss\n",
    "import matplotlib.pyplot as plt"
   ]
  },
  {
   "cell_type": "markdown",
   "id": "5d85a310",
   "metadata": {},
   "source": [
    "# Load MNIST\n",
    "\n",
    "In the incoming block the MNIST dataset is created and loaded to the standard DataLoader of pytorch. This allow to simply call train_data and test_data when training the network without having to manually create the batches. "
   ]
  },
  {
   "cell_type": "code",
   "execution_count": 2,
   "id": "13219a9c",
   "metadata": {},
   "outputs": [],
   "source": [
    "class ThresholdTransform(object):\n",
    "    def __init__(self, thr_255):\n",
    "        self.thr = thr_255   # input threshold for [0..255] gray level, convert to [0..1]\n",
    "\n",
    "    def __call__(self, x):\n",
    "        return (x >= self.thr).to(x.dtype)  # do not change the data type"
   ]
  },
  {
   "cell_type": "code",
   "execution_count": 3,
   "id": "76648145",
   "metadata": {},
   "outputs": [
    {
     "data": {
      "image/png": "[encoded data removed]",
      "text/plain": [
       "<Figure size 576x576 with 10 Axes>"
      ]
     },
     "metadata": {
      "needs_background": "light"
     },
     "output_type": "display_data"
    }
   ],
   "source": [
    "# Preprocessing data: convert to tensors and normalize by subtracting dataset\n",
    "# mean and dividing by std.\n",
    "# We need to recall that the data is normalized when doing the ASIC implementation \n",
    "# The dummy input we feed in the ASIC must be normalized as well \n",
    "\n",
    "transform = transforms.Compose([transforms.ToTensor(),\n",
    "                                transforms.Normalize((0.1307,), (0.3081,)),\n",
    "                                ThresholdTransform(thr_255=0)])\n",
    "\n",
    "# Get data from torchvision.datasets\n",
    "train_data = datasets.MNIST('../data', train=True, download=True, transform=transform)\n",
    "test_data = datasets.MNIST('../data', train=False, download=True, transform=transform)\n",
    "\n",
    "\n",
    "# Define data loaders used to iterate through dataset\n",
    "train_loader = DataLoader(train_data, batch_size=64, shuffle=True)\n",
    "test_loader = DataLoader(test_data)\n",
    "\n",
    "# Show some example images and the associated label to verify that the data is loaded correctly \n",
    "\n",
    "labels_map = {\n",
    "    0: \"0\",\n",
    "    1: \"1\",\n",
    "    2: \"2\",\n",
    "    3: \"3\",\n",
    "    4: \"4\",\n",
    "    5: \"5\",\n",
    "    6: \"6\",\n",
    "    7: \"7\",\n",
    "    8: \"8\",\n",
    "    9: \"9 Boot\",\n",
    "}\n",
    "\n",
    "figure = plt.figure(figsize=(8, 8))\n",
    "cols, rows = 10, 1\n",
    "for i in range(1, cols * rows + 1):\n",
    "    sample_idx = torch.randint(len(train_data), size=(1,)).item()\n",
    "    img, label = train_data[sample_idx]\n",
    "    figure.add_subplot(rows, cols, i)\n",
    "    plt.title(labels_map[label])\n",
    "    plt.axis(\"off\")\n",
    "    plt.imshow(img.squeeze(), cmap=\"gray\")\n",
    "plt.show()\n",
    "\n"
   ]
  },
  {
   "cell_type": "markdown",
   "id": "3d3c37c7",
   "metadata": {},
   "source": [
    "# MNIST classification with Binary Neural Network\n",
    "## Sign function \n",
    "The function implemented below is the sign() function mentioned in the paper. However, this function is not used for training as it would not allow for gradient descent calculation. The idea is to use this function after the train has been performed (TODO). "
   ]
  },
  {
   "cell_type": "code",
   "execution_count": 4,
   "id": "859b14a5",
   "metadata": {},
   "outputs": [],
   "source": [
    "def my_sign(a):\n",
    "    \n",
    "    a_buff = torch.empty(a.shape)\n",
    "    for idx, element in enumerate(a):\n",
    "        for idy, sub_element in enumerate(element):\n",
    "            if(sub_element >= 0):\n",
    "                a_buff[idx][idy] = 1\n",
    "            else:\n",
    "                a_buff[idx][idy] = -1\n",
    "            \n",
    "    return a_buff"
   ]
  },
  {
   "cell_type": "markdown",
   "id": "e33abfde",
   "metadata": {},
   "source": [
    "## Create a class for the pytorch BNN\n",
    "Here I am basically creating my own definition of the network, the __init__ is the constructor and creates the class instances of the layer I want to use. The foreward function instead, perform the foreward pass of the network based on the order on which I put the layers previously created. "
   ]
  },
  {
   "cell_type": "code",
   "execution_count": 5,
   "id": "e7840a84",
   "metadata": {},
   "outputs": [],
   "source": [
    "class MY_BNN(nn.Module):\n",
    "    \"\"\"\n",
    "    PyTorch neural network. Network layers are defined in __init__ and forward\n",
    "    pass implemented in forward.\n",
    "    \n",
    "    Args:\n",
    "        in_features: number of features in input layer\n",
    "        hidden_dim: number of features in hidden dimension\n",
    "        out_features: number of features in output layer\n",
    "    \"\"\"\n",
    "    \n",
    "    def __init__(self, in_features, hidden_dim, out_features):\n",
    "        super(MY_BNN, self).__init__()\n",
    "        self.fc1 = BinarizeLinear(in_features, hidden_dim, bias = False)\n",
    "        self.htanh1 = nn.Hardtanh()\n",
    "        self.bn1 = nn.BatchNorm1d(hidden_dim)\n",
    "        self.fc2 = BinarizeLinear(hidden_dim, hidden_dim, bias = False)\n",
    "        self.htanh2 = nn.Hardtanh()\n",
    "        self.bn2 = nn.BatchNorm1d(hidden_dim)\n",
    "        self.fc3 = BinarizeLinear(hidden_dim, hidden_dim, bias = False)\n",
    "        self.htanh3 = nn.Hardtanh()\n",
    "        self.bn3 = nn.BatchNorm1d(hidden_dim)\n",
    "        self.fc4 = BinarizeLinear(hidden_dim, out_features, bias = False)\n",
    "        self.drop=nn.Dropout(0.25)\n",
    "        self.logsoftmax=nn.LogSoftmax()\n",
    "\n",
    "    def forward(self, x):\n",
    "        x = x.view(-1, 28*28)\n",
    "        x = self.fc1(x)    \n",
    "        x = self.bn1(x)    \n",
    "        x = self.htanh1(x) \n",
    "        x = self.fc2(x)    \n",
    "        x = self.bn2(x)    \n",
    "        x = self.htanh2(x)\n",
    "        x = self.fc3(x)\n",
    "        x = self.drop(x)\n",
    "        x = self.bn3(x)\n",
    "        x = self.htanh3(x)\n",
    "        x = self.fc4(x)\n",
    "        return self.logsoftmax(x)\n"
   ]
  },
  {
   "cell_type": "markdown",
   "id": "2f218dfe",
   "metadata": {},
   "source": [
    "## Initialize parameters and criterion of the network "
   ]
  },
  {
   "cell_type": "code",
   "execution_count": 6,
   "id": "23336d72",
   "metadata": {},
   "outputs": [
    {
     "name": "stdout",
     "output_type": "stream",
     "text": [
      "Number of bytes required 0.0125 Mbyte\n"
     ]
    }
   ],
   "source": [
    "# Initialize Pytorch network\n",
    "\n",
    "in_features = 28*28 # this is because the input image is flatten into and array of 28*28, 28 being the number of pixels\n",
    "hidden_dim = 100 # number of neurons in an hidden layer\n",
    "hidden_layers = 2\n",
    "out_features = 10 # we need to classify 10 classes of number 0 to 10 \n",
    "learning_rate = 0.003 # this is the step that we take to move in the direction of the gradient \n",
    "\n",
    "\n",
    "criterion = nn.CrossEntropyLoss()  # Meaning that we use cross entropy as a loss function \n",
    "epochs = 10 # number of times we are going across the full dataset \n",
    "\n",
    "\n",
    "\n",
    "model = MY_BNN(in_features, hidden_dim, out_features)\n",
    "\n",
    "#find number of param \n",
    "pytorch_total_params = sum(p.numel() for p in model.parameters() if p.requires_grad)\n",
    "print(\"Number of bytes required\",pytorch_total_params /8/1e6 , \"Mbyte\")\n",
    "\n",
    "optimizer = optim.Adam(model.parameters(), learning_rate) # Adam algorithm to optimize change of learning_rate\n"
   ]
  },
  {
   "cell_type": "markdown",
   "id": "3c2e9e8b",
   "metadata": {},
   "source": [
    "## Definition of the training function"
   ]
  },
  {
   "cell_type": "code",
   "execution_count": 7,
   "id": "32e4ea28",
   "metadata": {},
   "outputs": [],
   "source": [
    "train_losses = []  # hold the loss for each batch -> used to display training afterwards \n",
    "\n",
    "def train(epoch):\n",
    "    model.train()\n",
    "    for batch_idx, (data, target) in enumerate(train_loader):\n",
    "        \n",
    "        data, target = Variable(data), Variable(target)\n",
    "        optimizer.zero_grad()\n",
    "        output = model(data)\n",
    "        loss = criterion(output, target)\n",
    "        train_losses.append(loss)\n",
    "\n",
    "        if epoch%40==0:\n",
    "            optimizer.param_groups[0]['lr']=optimizer.param_groups[0]['lr']*0.1\n",
    "\n",
    "        optimizer.zero_grad()\n",
    "        loss.backward()\n",
    "        for p in list(model.parameters()):\n",
    "            if hasattr(p,'org'):\n",
    "                p.data.copy_(p.org)\n",
    "        optimizer.step()\n",
    "        for p in list(model.parameters()):\n",
    "            if hasattr(p,'org'):\n",
    "                p.org.copy_(p.data.clamp_(-1,1))\n",
    "                \n",
    "        #print(output)\n",
    "        #print(target)\n",
    "       # correct = torch.argmax(output, axis=1) == torch.argmax(target, axis=1)\n",
    "        #train_accs.append(torch.sum(correct)/len(y_pred))\n",
    "        \n",
    "        if batch_idx % 100 == 0:\n",
    "            print('Train Epoch: {} [{}/{} ({:.0f}%)]\\tLoss: {:.6f}'.format(\n",
    "                epoch, batch_idx * len(data), len(train_loader.dataset),\n",
    "                100. * batch_idx / len(train_loader), loss.item()))"
   ]
  },
  {
   "cell_type": "code",
   "execution_count": null,
   "id": "5d13848d",
   "metadata": {},
   "outputs": [],
   "source": [
    "#model.bn2.weight\n",
    "for p in list(model.parameters()):\n",
    "    print(p.data)\n"
   ]
  },
  {
   "cell_type": "markdown",
   "id": "3e5775fe",
   "metadata": {},
   "source": [
    "## The training loop"
   ]
  },
  {
   "cell_type": "code",
   "execution_count": 8,
   "id": "a0fbbd31",
   "metadata": {},
   "outputs": [
    {
     "name": "stderr",
     "output_type": "stream",
     "text": [
      "/var/folders/8f/j0yzvf055y7c23h6ltl5b3pr0000gn/T/ipykernel_52016/3942372170.py:40: UserWarning: Implicit dimension choice for log_softmax has been deprecated. Change the call to include dim=X as an argument.\n",
      "  return self.logsoftmax(x)\n"
     ]
    },
    {
     "name": "stdout",
     "output_type": "stream",
     "text": [
      "Train Epoch: 1 [0/60000 (0%)]\tLoss: 15.573915\n",
      "Train Epoch: 1 [6400/60000 (11%)]\tLoss: 3.821992\n",
      "Train Epoch: 1 [12800/60000 (21%)]\tLoss: 1.782306\n",
      "Train Epoch: 1 [19200/60000 (32%)]\tLoss: 2.239111\n",
      "Train Epoch: 1 [25600/60000 (43%)]\tLoss: 3.106381\n",
      "Train Epoch: 1 [32000/60000 (53%)]\tLoss: 2.193875\n",
      "Train Epoch: 1 [38400/60000 (64%)]\tLoss: 3.205960\n",
      "Train Epoch: 1 [44800/60000 (75%)]\tLoss: 2.664849\n",
      "Train Epoch: 1 [51200/60000 (85%)]\tLoss: 2.151680\n",
      "Train Epoch: 1 [57600/60000 (96%)]\tLoss: 3.021485\n",
      "Train Epoch: 2 [0/60000 (0%)]\tLoss: 2.770953\n",
      "Train Epoch: 2 [6400/60000 (11%)]\tLoss: 0.728903\n",
      "Train Epoch: 2 [12800/60000 (21%)]\tLoss: 2.401958\n",
      "Train Epoch: 2 [19200/60000 (32%)]\tLoss: 1.204364\n",
      "Train Epoch: 2 [25600/60000 (43%)]\tLoss: 1.586478\n",
      "Train Epoch: 2 [32000/60000 (53%)]\tLoss: 1.863111\n",
      "Train Epoch: 2 [38400/60000 (64%)]\tLoss: 1.951960\n",
      "Train Epoch: 2 [44800/60000 (75%)]\tLoss: 2.789486\n",
      "Train Epoch: 2 [51200/60000 (85%)]\tLoss: 3.299883\n",
      "Train Epoch: 2 [57600/60000 (96%)]\tLoss: 1.234813\n",
      "Train Epoch: 3 [0/60000 (0%)]\tLoss: 3.236437\n",
      "Train Epoch: 3 [6400/60000 (11%)]\tLoss: 1.718390\n",
      "Train Epoch: 3 [12800/60000 (21%)]\tLoss: 2.327024\n",
      "Train Epoch: 3 [19200/60000 (32%)]\tLoss: 1.108549\n",
      "Train Epoch: 3 [25600/60000 (43%)]\tLoss: 0.827972\n",
      "Train Epoch: 3 [32000/60000 (53%)]\tLoss: 1.407754\n",
      "Train Epoch: 3 [38400/60000 (64%)]\tLoss: 0.604593\n",
      "Train Epoch: 3 [44800/60000 (75%)]\tLoss: 2.281798\n",
      "Train Epoch: 3 [51200/60000 (85%)]\tLoss: 2.828198\n",
      "Train Epoch: 3 [57600/60000 (96%)]\tLoss: 1.754751\n",
      "Train Epoch: 4 [0/60000 (0%)]\tLoss: 1.442502\n",
      "Train Epoch: 4 [6400/60000 (11%)]\tLoss: 0.884668\n",
      "Train Epoch: 4 [12800/60000 (21%)]\tLoss: 3.270863\n",
      "Train Epoch: 4 [19200/60000 (32%)]\tLoss: 1.617486\n",
      "Train Epoch: 4 [25600/60000 (43%)]\tLoss: 0.607480\n",
      "Train Epoch: 4 [32000/60000 (53%)]\tLoss: 2.614563\n",
      "Train Epoch: 4 [38400/60000 (64%)]\tLoss: 0.402169\n",
      "Train Epoch: 4 [44800/60000 (75%)]\tLoss: 1.654623\n",
      "Train Epoch: 4 [51200/60000 (85%)]\tLoss: 0.721495\n",
      "Train Epoch: 4 [57600/60000 (96%)]\tLoss: 1.292555\n",
      "Train Epoch: 5 [0/60000 (0%)]\tLoss: 0.841137\n",
      "Train Epoch: 5 [6400/60000 (11%)]\tLoss: 1.887927\n",
      "Train Epoch: 5 [12800/60000 (21%)]\tLoss: 0.572851\n",
      "Train Epoch: 5 [19200/60000 (32%)]\tLoss: 1.916729\n",
      "Train Epoch: 5 [25600/60000 (43%)]\tLoss: 0.915620\n",
      "Train Epoch: 5 [32000/60000 (53%)]\tLoss: 2.511519\n",
      "Train Epoch: 5 [38400/60000 (64%)]\tLoss: 0.558586\n",
      "Train Epoch: 5 [44800/60000 (75%)]\tLoss: 0.363870\n",
      "Train Epoch: 5 [51200/60000 (85%)]\tLoss: 1.247154\n",
      "Train Epoch: 5 [57600/60000 (96%)]\tLoss: 2.305562\n",
      "Train Epoch: 6 [0/60000 (0%)]\tLoss: 2.520537\n",
      "Train Epoch: 6 [6400/60000 (11%)]\tLoss: 1.813614\n",
      "Train Epoch: 6 [12800/60000 (21%)]\tLoss: 0.796628\n",
      "Train Epoch: 6 [19200/60000 (32%)]\tLoss: 1.053677\n",
      "Train Epoch: 6 [25600/60000 (43%)]\tLoss: 1.415845\n",
      "Train Epoch: 6 [32000/60000 (53%)]\tLoss: 1.546409\n",
      "Train Epoch: 6 [38400/60000 (64%)]\tLoss: 2.994746\n",
      "Train Epoch: 6 [44800/60000 (75%)]\tLoss: 2.194140\n",
      "Train Epoch: 6 [51200/60000 (85%)]\tLoss: 0.783938\n",
      "Train Epoch: 6 [57600/60000 (96%)]\tLoss: 1.097357\n",
      "Train Epoch: 7 [0/60000 (0%)]\tLoss: 2.518151\n",
      "Train Epoch: 7 [6400/60000 (11%)]\tLoss: 1.021749\n",
      "Train Epoch: 7 [12800/60000 (21%)]\tLoss: 0.392770\n",
      "Train Epoch: 7 [19200/60000 (32%)]\tLoss: 0.846306\n",
      "Train Epoch: 7 [25600/60000 (43%)]\tLoss: 1.880368\n",
      "Train Epoch: 7 [32000/60000 (53%)]\tLoss: 0.192068\n",
      "Train Epoch: 7 [38400/60000 (64%)]\tLoss: 2.088560\n",
      "Train Epoch: 7 [44800/60000 (75%)]\tLoss: 1.923751\n",
      "Train Epoch: 7 [51200/60000 (85%)]\tLoss: 1.769533\n",
      "Train Epoch: 7 [57600/60000 (96%)]\tLoss: 0.923376\n",
      "Train Epoch: 8 [0/60000 (0%)]\tLoss: 0.919514\n",
      "Train Epoch: 8 [6400/60000 (11%)]\tLoss: 3.320444\n",
      "Train Epoch: 8 [12800/60000 (21%)]\tLoss: 0.305079\n",
      "Train Epoch: 8 [19200/60000 (32%)]\tLoss: 1.321743\n",
      "Train Epoch: 8 [25600/60000 (43%)]\tLoss: 1.345632\n",
      "Train Epoch: 8 [32000/60000 (53%)]\tLoss: 0.454591\n",
      "Train Epoch: 8 [38400/60000 (64%)]\tLoss: 0.389778\n",
      "Train Epoch: 8 [44800/60000 (75%)]\tLoss: 1.993006\n",
      "Train Epoch: 8 [51200/60000 (85%)]\tLoss: 1.422424\n",
      "Train Epoch: 8 [57600/60000 (96%)]\tLoss: 0.790053\n",
      "Train Epoch: 9 [0/60000 (0%)]\tLoss: 0.795383\n",
      "Train Epoch: 9 [6400/60000 (11%)]\tLoss: 1.855672\n",
      "Train Epoch: 9 [12800/60000 (21%)]\tLoss: 1.640889\n",
      "Train Epoch: 9 [19200/60000 (32%)]\tLoss: 0.908323\n",
      "Train Epoch: 9 [25600/60000 (43%)]\tLoss: 1.943792\n",
      "Train Epoch: 9 [32000/60000 (53%)]\tLoss: 0.537892\n",
      "Train Epoch: 9 [38400/60000 (64%)]\tLoss: 1.561622\n",
      "Train Epoch: 9 [44800/60000 (75%)]\tLoss: 0.888939\n",
      "Train Epoch: 9 [51200/60000 (85%)]\tLoss: 1.200978\n",
      "Train Epoch: 9 [57600/60000 (96%)]\tLoss: 0.550786\n",
      "Train Epoch: 10 [0/60000 (0%)]\tLoss: 0.295721\n",
      "Train Epoch: 10 [6400/60000 (11%)]\tLoss: 0.729053\n",
      "Train Epoch: 10 [12800/60000 (21%)]\tLoss: 1.768342\n",
      "Train Epoch: 10 [19200/60000 (32%)]\tLoss: 2.270122\n",
      "Train Epoch: 10 [25600/60000 (43%)]\tLoss: 3.349134\n",
      "Train Epoch: 10 [32000/60000 (53%)]\tLoss: 0.965662\n",
      "Train Epoch: 10 [38400/60000 (64%)]\tLoss: 1.995137\n",
      "Train Epoch: 10 [44800/60000 (75%)]\tLoss: 0.886044\n",
      "Train Epoch: 10 [51200/60000 (85%)]\tLoss: 0.783261\n",
      "Train Epoch: 10 [57600/60000 (96%)]\tLoss: 2.725491\n"
     ]
    }
   ],
   "source": [
    "for epoch in range(1, epochs + 1):\n",
    "    train(epoch)"
   ]
  },
  {
   "cell_type": "markdown",
   "id": "106f06a4",
   "metadata": {},
   "source": [
    "## Display loss vs iterations"
   ]
  },
  {
   "cell_type": "code",
   "execution_count": 9,
   "id": "80d16dfc",
   "metadata": {},
   "outputs": [
    {
     "data": {
      "image/png": "[encoded data removed]",
      "text/plain": [
       "<Figure size 432x288 with 1 Axes>"
      ]
     },
     "metadata": {
      "needs_background": "light"
     },
     "output_type": "display_data"
    }
   ],
   "source": [
    "new = []\n",
    "for element in train_losses:\n",
    "    new.append(element.detach().numpy())\n",
    "    \n",
    "plt.xlabel('Iterations')\n",
    "plt.ylabel('Loss')\n",
    "plt.plot(new)\n",
    "plt.grid()\n",
    "plt.savefig('foo.pdf')"
   ]
  },
  {
   "cell_type": "markdown",
   "id": "7b874b15",
   "metadata": {},
   "source": [
    "## Define a function for testing the trained network"
   ]
  },
  {
   "cell_type": "code",
   "execution_count": 10,
   "id": "96c8727c",
   "metadata": {},
   "outputs": [],
   "source": [
    "def test():\n",
    "    model.eval()\n",
    "    test_loss = 0\n",
    "    correct = 0\n",
    "    with torch.no_grad():\n",
    "        for data, target in test_loader:\n",
    "       \n",
    "            data, target = Variable(data), Variable(target)\n",
    "            output = model(data)\n",
    "            test_loss += criterion(output, target).item() # sum up batch loss\n",
    "            pred = output.data.max(1, keepdim=True)[1] # get the index of the max log-probability\n",
    "            correct += pred.eq(target.data.view_as(pred)).cpu().sum()\n",
    "\n",
    "    test_loss /= len(test_loader.dataset)\n",
    "    print('\\nTest set: Average loss: {:.4f}, Accuracy: {}/{} ({:.0f}%)\\n'.format(\n",
    "        test_loss, correct, len(test_loader.dataset),\n",
    "        100. * correct / len(test_loader.dataset)))"
   ]
  },
  {
   "cell_type": "markdown",
   "id": "2d854a31",
   "metadata": {},
   "source": [
    "## Test it\n",
    "After this section the accuracy of the trained network will be printed"
   ]
  },
  {
   "cell_type": "code",
   "execution_count": 11,
   "id": "f978be86",
   "metadata": {},
   "outputs": [
    {
     "name": "stderr",
     "output_type": "stream",
     "text": [
      "/var/folders/8f/j0yzvf055y7c23h6ltl5b3pr0000gn/T/ipykernel_52016/3942372170.py:40: UserWarning: Implicit dimension choice for log_softmax has been deprecated. Change the call to include dim=X as an argument.\n",
      "  return self.logsoftmax(x)\n"
     ]
    },
    {
     "name": "stdout",
     "output_type": "stream",
     "text": [
      "\n",
      "Test set: Average loss: 1.0760, Accuracy: 9351/10000 (94%)\n",
      "\n"
     ]
    }
   ],
   "source": [
    "test()"
   ]
  },
  {
   "cell_type": "markdown",
   "id": "82cf9a8a",
   "metadata": {},
   "source": [
    "## Test a single prediction after training"
   ]
  },
  {
   "cell_type": "code",
   "execution_count": null,
   "id": "88cf24bf",
   "metadata": {},
   "outputs": [],
   "source": [
    "img, label = test_data[11]\n",
    "print(label)\n",
    "plt.imshow(img.squeeze(), cmap=\"gray\")\n",
    "output = model(img)\n",
    "pred = output.data.max(1, keepdim=True)[1]\n",
    "print(pred)"
   ]
  },
  {
   "cell_type": "markdown",
   "id": "4d93d47a",
   "metadata": {},
   "source": [
    "## Printing the weights\n",
    "This section must be refined to make sure that I am able to print the weight for each layer in a proper manner. "
   ]
  },
  {
   "cell_type": "code",
   "execution_count": null,
   "id": "5b11daa0",
   "metadata": {},
   "outputs": [],
   "source": [
    "for param in model.parameters():\n",
    "    print(param)"
   ]
  },
  {
   "cell_type": "code",
   "execution_count": null,
   "id": "4c89c2b5",
   "metadata": {},
   "outputs": [],
   "source": [
    "print(model.fc1.weight)\n",
    "print(model.fc1.bias)"
   ]
  },
  {
   "cell_type": "code",
   "execution_count": null,
   "id": "0ea45a7a",
   "metadata": {},
   "outputs": [],
   "source": [
    "print(model.fc2.weight)\n",
    "print(model.fc2.bias)"
   ]
  },
  {
   "cell_type": "code",
   "execution_count": null,
   "id": "d8c4b109",
   "metadata": {},
   "outputs": [],
   "source": [
    "print(model.fc3.weight)\n",
    "print(model.fc3.bias)"
   ]
  },
  {
   "cell_type": "code",
   "execution_count": null,
   "id": "b66d9388",
   "metadata": {},
   "outputs": [],
   "source": [
    "print(model.fc3.weight.shape)\n",
    "print(model.fc3.bias)"
   ]
  },
  {
   "cell_type": "code",
   "execution_count": null,
   "id": "0c4ac8eb",
   "metadata": {},
   "outputs": [],
   "source": [
    "print(model.fc4.weight)\n",
    "print(model.fc4.bias)"
   ]
  },
  {
   "cell_type": "code",
   "execution_count": null,
   "id": "0fb91a8c",
   "metadata": {},
   "outputs": [],
   "source": [
    "print(model.bn1.weight)\n",
    "print(model.fc4.bias)"
   ]
  },
  {
   "cell_type": "markdown",
   "id": "0bf49ab4",
   "metadata": {},
   "source": [
    "## Save network weights in a csv format"
   ]
  },
  {
   "cell_type": "code",
   "execution_count": 35,
   "id": "98aec9c6",
   "metadata": {},
   "outputs": [],
   "source": [
    "#First convert all network layers into numpy \n",
    "numpy_fc1 = model.fc1.weight.data.cpu().detach().numpy()\n",
    "numpy_fc2 = model.fc2.weight.data.cpu().detach().numpy()\n",
    "numpy_fc3 = model.fc3.weight.data.cpu().detach().numpy()\n",
    "numpy_fc4 = model.fc4.weight.data.cpu().detach().numpy()\n",
    "\n",
    "\n",
    "#Convert numpy to pandas dataframe \n",
    "df_fc1 = pd.DataFrame(numpy_fc1)\n",
    "df_fc2 = pd.DataFrame(numpy_fc2)\n",
    "df_fc3 = pd.DataFrame(numpy_fc3)\n",
    "df_fc4 = pd.DataFrame(numpy_fc4)\n",
    "\n",
    "\n",
    "#Export to csv with pandas \n",
    "df_fc1.to_csv('W_fc1.csv',index=False,header=False)\n",
    "df_fc2.to_csv('W_fc2.csv',index=False,header=False)\n",
    "df_fc3.to_csv('W_fc3.csv',index=False,header=False)\n",
    "df_fc4.to_csv('W_fc4.csv',index=False,header=False)"
   ]
  },
  {
   "cell_type": "markdown",
   "id": "906c9721",
   "metadata": {},
   "source": [
    "# Test binarized\n",
    "I know want to test if the network still infers correctly if I have the sign instead of the hardtanh"
   ]
  },
  {
   "cell_type": "code",
   "execution_count": 12,
   "id": "bf9e9a87",
   "metadata": {},
   "outputs": [],
   "source": [
    "class MY_BNN_test(nn.Module):\n",
    "    \"\"\"\n",
    "    PyTorch neural network. Network layers are defined in __init__ and forward\n",
    "    pass implemented in forward.\n",
    "    \n",
    "    Args:\n",
    "        in_features: number of features in input layer\n",
    "        hidden_dim: number of features in hidden dimension\n",
    "        out_features: number of features in output layer\n",
    "    \"\"\"\n",
    "    \n",
    "    def __init__(self, in_features, hidden_dim, out_features):\n",
    "        super(MY_BNN_test, self).__init__()\n",
    "\n",
    "        self.fc1 = BinarizeLinear(in_features, hidden_dim, bias = False)\n",
    "        self.fc2 = BinarizeLinear(hidden_dim, hidden_dim, bias = False)\n",
    "        self.fc3 = BinarizeLinear(hidden_dim, hidden_dim, bias = False)\n",
    "        self.fc4 = BinarizeLinear(hidden_dim, out_features, bias = False)\n",
    "\n",
    "\n",
    "    def forward(self, x):\n",
    "        x = x.view(-1, 28*28)\n",
    "        x = self.fc1(x)\n",
    "        x = torch.sign(x)\n",
    "        x = self.fc2(x)\n",
    "        x = torch.sign(x)\n",
    "        x = self.fc3(x)\n",
    "        x = torch.sign(x)\n",
    "        x = self.fc4(x)\n",
    "        return x\n"
   ]
  },
  {
   "cell_type": "code",
   "execution_count": 13,
   "id": "ea60ad4e",
   "metadata": {},
   "outputs": [],
   "source": [
    "model_test = MY_BNN_test(in_features, hidden_dim, out_features)\n",
    "model_test.fc1.weight = model.fc1.weight\n",
    "model_test.fc2.weight = model.fc2.weight\n",
    "model_test.fc3.weight = model.fc3.weight\n",
    "model_test.fc4.weight = model.fc4.weight"
   ]
  },
  {
   "cell_type": "code",
   "execution_count": 14,
   "id": "06c23a55",
   "metadata": {},
   "outputs": [
    {
     "name": "stdout",
     "output_type": "stream",
     "text": [
      "torch.Size([100, 784])\n",
      "torch.Size([100, 100])\n",
      "torch.Size([100, 100])\n",
      "torch.Size([10, 100])\n"
     ]
    }
   ],
   "source": [
    "print(model_test.fc1.weight.shape)\n",
    "print(model_test.fc2.weight.shape)\n",
    "print(model_test.fc3.weight.shape)\n",
    "print(model_test.fc4.weight.shape)"
   ]
  },
  {
   "cell_type": "code",
   "execution_count": 15,
   "id": "470d7dca",
   "metadata": {},
   "outputs": [],
   "source": [
    "def test_test():\n",
    "    model_test.eval()\n",
    "    test_loss = 0\n",
    "    correct = 0\n",
    "    with torch.no_grad():\n",
    "        for data, target in test_loader:\n",
    "            data, target = Variable(data), Variable(target)\n",
    "            output = model_test(data)\n",
    "            test_loss += criterion(output, target).item() # sum up batch loss\n",
    "            pred = output.data.max(1, keepdim=True)[1] # get the index of the max log-probability\n",
    "            correct += pred.eq(target.data.view_as(pred)).cpu().sum()\n",
    "\n",
    "    test_loss /= len(test_loader.dataset)\n",
    "    print('\\nTest set: Average loss: {:.4f}, Accuracy: {}/{} ({:.0f}%)\\n'.format(\n",
    "        test_loss, correct, len(test_loader.dataset),\n",
    "        100. * correct / len(test_loader.dataset)))"
   ]
  },
  {
   "cell_type": "code",
   "execution_count": 16,
   "id": "1fb36477",
   "metadata": {},
   "outputs": [
    {
     "name": "stdout",
     "output_type": "stream",
     "text": [
      "\n",
      "Test set: Average loss: 3.7854, Accuracy: 7316/10000 (73%)\n",
      "\n"
     ]
    }
   ],
   "source": [
    "test_test()"
   ]
  },
  {
   "cell_type": "markdown",
   "id": "b45a49f3",
   "metadata": {},
   "source": [
    "# Testing that outputs are binarized values at each layer "
   ]
  },
  {
   "cell_type": "code",
   "execution_count": 36,
   "id": "96c7f217",
   "metadata": {},
   "outputs": [],
   "source": [
    "# making a model that prints the output tensor at each stage \n",
    "\n",
    "\n",
    "\n",
    "class MY_BNN_test_printer(nn.Module):\n",
    "    \"\"\"\n",
    "    PyTorch neural network. Network layers are defined in __init__ and forward\n",
    "    pass implemented in forward.\n",
    "    \n",
    "    Args:\n",
    "        in_features: number of features in input layer\n",
    "        hidden_dim: number of features in hidden dimension\n",
    "        out_features: number of features in output layer\n",
    "    \"\"\"\n",
    "    \n",
    "    def __init__(self, in_features, hidden_dim, out_features):\n",
    "        super(MY_BNN_test_printer, self).__init__()\n",
    "\n",
    "        self.fc1 = BinarizeLinear(in_features, hidden_dim, bias = False)\n",
    "        self.fc2 = BinarizeLinear(hidden_dim, hidden_dim, bias = False)\n",
    "        self.fc3 = BinarizeLinear(hidden_dim, hidden_dim, bias = False)\n",
    "        self.fc4 = BinarizeLinear(hidden_dim, out_features, bias = False)\n",
    "\n",
    "\n",
    "    def forward(self, x):\n",
    "        global flatten_x,fc1_out,signed_fc1_out,fc2_out,signed_fc2_out,fc3_out,signed_fc3_out,fc4_out\n",
    "        x = x.view(-1, 28*28)\n",
    "        flatten_x = x\n",
    "        x = self.fc1(x)\n",
    "        fc1_out = x\n",
    "        x = my_sign(x)\n",
    "        signed_fc1_out = x\n",
    "        x = self.fc2(x)\n",
    "        fc2_out = x\n",
    "        x = my_sign(x)\n",
    "        signed_fc2_out = x\n",
    "        x = self.fc3(x)\n",
    "        fc3_out = x\n",
    "        x = my_sign(x)\n",
    "        signed_fc3_out = x\n",
    "        x = self.fc4(x)\n",
    "        fc4_out = x\n",
    "        return x"
   ]
  },
  {
   "cell_type": "code",
   "execution_count": 37,
   "id": "411c65d3",
   "metadata": {},
   "outputs": [],
   "source": [
    "model_test_printer = MY_BNN_test_printer(in_features, hidden_dim, out_features)\n",
    "model_test_printer.fc1.weight = model.fc1.weight\n",
    "model_test_printer.fc2.weight = model.fc2.weight\n",
    "model_test_printer.fc3.weight = model.fc3.weight\n",
    "model_test_printer.fc4.weight = model.fc4.weight\n"
   ]
  },
  {
   "cell_type": "code",
   "execution_count": null,
   "id": "c9607eb3",
   "metadata": {},
   "outputs": [],
   "source": [
    "print(model_test_printer.fc1.weight.shape)"
   ]
  },
  {
   "cell_type": "code",
   "execution_count": 38,
   "id": "6e780707",
   "metadata": {},
   "outputs": [
    {
     "name": "stdout",
     "output_type": "stream",
     "text": [
      "2\n",
      "tensor([[2]])\n"
     ]
    },
    {
     "data": {
      "image/png": "[encoded data removed]",
      "text/plain": [
       "<Figure size 432x288 with 1 Axes>"
      ]
     },
     "metadata": {
      "needs_background": "light"
     },
     "output_type": "display_data"
    }
   ],
   "source": [
    "#just getting one image to feed in the network\n",
    "\n",
    "img, label = test_data[1]\n",
    "print(label)\n",
    "plt.imshow(img.squeeze(), cmap=\"gray\")\n",
    "output = model_test_printer(img)\n",
    "pred = output.data.max(1, keepdim=True)[1]\n",
    "print(pred)"
   ]
  },
  {
   "cell_type": "code",
   "execution_count": 42,
   "id": "3e1dae9e",
   "metadata": {},
   "outputs": [],
   "source": [
    "#Convert the flatten input into a csv\n",
    "in_flatten = flatten_x.cpu().detach().numpy()\n",
    "\n",
    "df_in_flatten = pd.DataFrame(in_flatten)\n",
    "#Export to csv with pandas \n",
    "df_in_flatten.to_csv('input_image_flatten.csv',index=False,header=False)\n"
   ]
  },
  {
   "cell_type": "markdown",
   "id": "9f1002fa",
   "metadata": {},
   "source": [
    "# Testing the multiplications\n"
   ]
  },
  {
   "cell_type": "code",
   "execution_count": 41,
   "id": "eb44e9b1",
   "metadata": {},
   "outputs": [
    {
     "name": "stdout",
     "output_type": "stream",
     "text": [
      "shape of flatten input torch.Size([1, 784])\n",
      "------------layer 1-----------\n",
      "shape weight fc1 torch.Size([100, 784])\n",
      "shape of fc1 output torch.Size([1, 100])\n",
      "shape of fc1 signed output torch.Size([1, 100])\n",
      "------------layer 2-----------\n",
      "shape weight fc2 torch.Size([100, 100])\n",
      "shape of fc2 output torch.Size([1, 100])\n",
      "shape of fc2 signed output torch.Size([1, 100])\n",
      "------------layer 3-----------\n",
      "shape weight fc3 torch.Size([100, 100])\n",
      "shape of fc3 output torch.Size([1, 100])\n",
      "shape of fc3 signed output torch.Size([1, 100])\n",
      "shape of output torch.Size([1, 10])\n",
      "------------layer 4-----------\n",
      "shape weight fc4 torch.Size([10, 100])\n",
      "shape of fc4 output torch.Size([1, 10])\n"
     ]
    }
   ],
   "source": [
    "# the output of the first layer should be the flattened input vector times the weight matrix of first layer\n",
    "# lets first see the shapes of these two \n",
    "# size returns (row,column)\n",
    "\n",
    "print(\"shape of flatten input\",flatten_x.shape )\n",
    "print(\"------------layer 1-----------\") \n",
    "print(\"shape weight fc1\",model_test_printer.fc1.weight.shape)\n",
    "print(\"shape of fc1 output\",fc1_out.shape)\n",
    "print(\"shape of fc1 signed output\",signed_fc1_out.shape)\n",
    "print(\"------------layer 2-----------\") \n",
    "print(\"shape weight fc2\",model_test_printer.fc2.weight.shape)\n",
    "print(\"shape of fc2 output\",fc2_out.shape)\n",
    "print(\"shape of fc2 signed output\",signed_fc2_out.shape)\n",
    "print(\"------------layer 3-----------\") \n",
    "print(\"shape weight fc3\",model_test_printer.fc3.weight.shape)\n",
    "print(\"shape of fc3 output\",fc3_out.shape)\n",
    "print(\"shape of fc3 signed output\",signed_fc3_out.shape)\n",
    "print(\"shape of output\",fc4_out.shape )\n",
    "print(\"------------layer 4-----------\") \n",
    "print(\"shape weight fc4\",model_test_printer.fc4.weight.shape)\n",
    "print(\"shape of fc4 output\",fc4_out.shape)\n",
    "\n",
    "\n",
    "\n"
   ]
  },
  {
   "cell_type": "code",
   "execution_count": null,
   "id": "fca9294f",
   "metadata": {},
   "outputs": [],
   "source": [
    "#I am now going to verify the operations one by one to make sure dimensions are corrects and also results \n",
    "\n",
    "#LAYER 1 -> sing(flatten_x*fc1.weightT)\n",
    "fc1_out_mine = my_sign(torch.matmul(flatten_x,torch.transpose(model_test_printer.fc1.weight,1,0)))\n",
    "print(\"layer 1 op is: \",torch.all(fc1_out_mine.eq(signed_fc1_out)))\n",
    "\n",
    "#LAYER 2 -> sing(fc1_out_mine*fc2.weightT)\n",
    "fc2_out_mine = my_sign(torch.matmul(fc1_out_mine,torch.transpose(model_test_printer.fc2.weight,1,0)))\n",
    "print(\"layer 2 op is: \",torch.all(fc2_out_mine.eq(signed_fc2_out)))\n",
    "\n",
    "#LAYER 3 -> sing(fc2_out_mine*fc3.weightT)\n",
    "fc3_out_mine = my_sign(torch.matmul(fc2_out_mine,torch.transpose(model_test_printer.fc3.weight,1,0)))\n",
    "print(\"layer 3 op is: \",torch.all(fc3_out_mine.eq(signed_fc3_out)))\n",
    "\n",
    "#LAYER 3 (output) -> fc3_out_mine*fc4.weightT\n",
    "fc4_out_mine = torch.matmul(fc3_out_mine,torch.transpose(model_test_printer.fc4.weight,1,0))\n",
    "print(\"output op is: \",torch.all(fc4_out_mine.eq(fc4_out)))\n",
    "\n",
    "print(\"my output tensor: \",fc4_out_mine )\n",
    "print(\"network output tensor: \",fc4_out)\n",
    "\n"
   ]
  },
  {
   "cell_type": "code",
   "execution_count": null,
   "id": "42ed7e69",
   "metadata": {},
   "outputs": [],
   "source": [
    "\n"
   ]
  }
 ],
 "metadata": {
  "kernelspec": {
   "display_name": "Python 3 (ipykernel)",
   "language": "python",
   "name": "python3"
  },
  "language_info": {
   "codemirror_mode": {
    "name": "ipython",
    "version": 3
   },
   "file_extension": ".py",
   "mimetype": "text/x-python",
   "name": "python",
   "nbconvert_exporter": "python",
   "pygments_lexer": "ipython3",
   "version": "3.9.12"
  }
 },
 "nbformat": 4,
 "nbformat_minor": 5
}
