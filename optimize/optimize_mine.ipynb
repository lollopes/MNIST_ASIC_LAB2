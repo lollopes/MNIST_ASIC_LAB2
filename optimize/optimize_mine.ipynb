{
 "cells": [
  {
   "cell_type": "code",
   "execution_count": 1,
   "id": "c5819dad",
   "metadata": {},
   "outputs": [],
   "source": [
    "from __future__ import print_function\n",
    "import argparse\n",
    "import torch\n",
    "from tqdm import tqdm\n",
    "import numpy as np\n",
    "import torch.nn as nn\n",
    "import torch.nn.functional as F\n",
    "import torch.optim as optim\n",
    "import pandas as pd\n",
    "from torch.utils.data import DataLoader\n",
    "from torchvision import datasets, transforms\n",
    "from torch.autograd import Variable\n",
    "from models.binarized_modules import  BinarizeLinear,BinarizeConv2d\n",
    "from models.binarized_modules import  Binarize,HingeLoss\n",
    "import matplotlib.pyplot as plt"
   ]
  },
  {
   "cell_type": "code",
   "execution_count": 2,
   "id": "5c24ade8",
   "metadata": {},
   "outputs": [],
   "source": [
    "class BNN_SW(nn.Module):\n",
    "    \n",
    "    def __init__(self, in_features = 28*28, HL_1=100, HL_2=100, HL_3=100, out_features=10,dropout = 0.5):\n",
    "        super(BNN_SW, self).__init__()\n",
    "        self.in_features = in_features\n",
    "        self.fc1 = BinarizeLinear(in_features, HL_1, bias = False)\n",
    "        self.htanh1 = nn.Hardtanh()\n",
    "        self.bn1 = nn.BatchNorm1d(HL_1)\n",
    "        self.fc2 = BinarizeLinear(HL_1, HL_2, bias = False)\n",
    "        self.htanh2 = nn.Hardtanh()\n",
    "        self.bn2 = nn.BatchNorm1d(HL_2)\n",
    "        self.fc3 = BinarizeLinear(HL_2, HL_3, bias = False)\n",
    "        self.htanh3 = nn.Hardtanh()\n",
    "        self.bn3 = nn.BatchNorm1d(HL_3)\n",
    "        self.fc4 = BinarizeLinear(HL_3, out_features, bias = False)\n",
    "        self.drop=nn.Dropout(dropout)\n",
    "        self.logsoftmax=nn.LogSoftmax()\n",
    "\n",
    "    def forward(self, x):\n",
    "        x = x.view(-1, self.in_features)\n",
    "        x = self.fc1(x)    \n",
    "        x = self.bn1(x)    \n",
    "        x = self.htanh1(x) \n",
    "        x = self.fc2(x)    \n",
    "        x = self.bn2(x)    \n",
    "        x = self.htanh2(x)\n",
    "        x = self.fc3(x)\n",
    "        x = self.drop(x)\n",
    "        x = self.bn3(x)\n",
    "        x = self.htanh3(x)\n",
    "        x = self.fc4(x)\n",
    "        return self.logsoftmax(x)\n",
    "\n",
    "class BNN_HW(nn.Module):\n",
    "\n",
    "    def __init__(self, in_features = 28*28, HL_1=100, HL_2=100, HL_3=100, out_features=10):\n",
    "        super(BNN_HW, self).__init__()\n",
    "        self.in_features = in_features\n",
    "        self.fc1 = BinarizeLinear(in_features, HL_1, bias = False)\n",
    "        self.fc2 = BinarizeLinear(HL_1, HL_2, bias = False)\n",
    "        self.fc3 = BinarizeLinear(HL_2, HL_3, bias = False)\n",
    "        self.fc4 = BinarizeLinear(HL_3, out_features, bias = False)\n",
    "\n",
    "    def forward(self, x):\n",
    "        x = x.view(-1, self.in_features)\n",
    "        x = self.fc1(x)\n",
    "        x = my_sign(x)\n",
    "        x = self.fc2(x)\n",
    "        x = my_sign(x)\n",
    "        x = self.fc3(x)\n",
    "        x = my_sign(x)\n",
    "        x = self.fc4(x)\n",
    "        return x\n"
   ]
  },
  {
   "cell_type": "code",
   "execution_count": 3,
   "id": "012e7737",
   "metadata": {},
   "outputs": [],
   "source": [
    "def train(epoch,model_hw,space_idx,learning_rate):\n",
    "    \n",
    "    criterion = nn.CrossEntropyLoss()\n",
    "    optimizer = optim.Adam(model_hw.parameters(), learning_rate) # Adam algorithm to optimize change of learning_rate\n",
    "\n",
    "\n",
    "    model_hw.train()\n",
    "    \n",
    "    for batch_idx, (data, target) in enumerate(train_loader):\n",
    "        \n",
    "        data, target = Variable(data), Variable(target)\n",
    "        optimizer.zero_grad()\n",
    "        output = model_hw(data)\n",
    "        #print(\"shape is \",data.shape)\n",
    "        loss = criterion(output, target)\n",
    "\n",
    "        if epoch%40==0:\n",
    "            optimizer.param_groups[0]['lr']=optimizer.param_groups[0]['lr']*0.1\n",
    "\n",
    "        optimizer.zero_grad()\n",
    "        loss.backward()\n",
    "        for p in list(model_hw.parameters()):\n",
    "            if hasattr(p,'org'):\n",
    "                p.data.copy_(p.org)\n",
    "        optimizer.step()\n",
    "        for p in list(model_hw.parameters()):\n",
    "            if hasattr(p,'org'):\n",
    "                p.org.copy_(p.data.clamp_(-1,1))\n",
    "\n",
    "            \n",
    "  "
   ]
  },
  {
   "cell_type": "code",
   "execution_count": 4,
   "id": "3f154a45",
   "metadata": {},
   "outputs": [],
   "source": [
    "def my_sign(a):\n",
    "    \n",
    "    a_buff = torch.empty(a.shape)\n",
    "    for idx, element in enumerate(a):\n",
    "        for idy, sub_element in enumerate(element):\n",
    "            if(sub_element >= 0):\n",
    "                a_buff[idx][idy] = 1\n",
    "            else:\n",
    "                a_buff[idx][idy] = -1\n",
    "            \n",
    "    return a_buff\n",
    "\n",
    "\n",
    "def test_sw(model):\n",
    "    \n",
    "    model.eval()\n",
    "    criterion = nn.CrossEntropyLoss()\n",
    "    test_loss = 0\n",
    "    correct = 0\n",
    "    with torch.no_grad():\n",
    "        for data, target in test_loader:\n",
    "       \n",
    "            data, target = Variable(data), Variable(target)\n",
    "            output = model(data)\n",
    "            test_loss += criterion(output, target).item() # sum up batch loss\n",
    "            pred = output.data.max(1, keepdim=True)[1] # get the index of the max log-probability\n",
    "            correct += pred.eq(target.data.view_as(pred)).cpu().sum()\n",
    "\n",
    "    test_loss /= len(test_loader.dataset)\n",
    "    \n",
    "    return 100. * correct / len(test_loader.dataset)\n",
    "\n",
    "\n",
    "def test_hw(model):\n",
    "    model.eval()\n",
    "    criterion = nn.CrossEntropyLoss()\n",
    "    test_loss = 0\n",
    "    correct = 0\n",
    "    with torch.no_grad():\n",
    "        for data, target in test_loader:\n",
    "            data, target = Variable(data), Variable(target)\n",
    "            #print(data)\n",
    "            output = model(data)\n",
    "            test_loss += criterion(output, target).item() # sum up batch loss\n",
    "            pred = output.data.max(1, keepdim=True)[1] # get the index of the max log-probability\n",
    "            correct += pred.eq(target.data.view_as(pred)).cpu().sum()\n",
    "\n",
    "    test_loss /= len(test_loader.dataset)\n",
    "    \n",
    "    return 100. * correct / len(test_loader.dataset)"
   ]
  },
  {
   "cell_type": "code",
   "execution_count": 5,
   "id": "78cafe37",
   "metadata": {},
   "outputs": [],
   "source": [
    "IMAGE_SIZE = 28\n",
    "\n",
    "class ThresholdTransform(object):\n",
    "    def __init__(self, thr_255):\n",
    "        self.thr = thr_255   # input threshold for [0..255] gray level, convert to [0..1]\n",
    "\n",
    "    def __call__(self, x):\n",
    "        x[x >= 0] = 1\n",
    "        x[x <= 0] = 0      \n",
    "        return x  \n",
    "    \n",
    "transform = transforms.Compose([transforms.ToTensor(),\n",
    "                                transforms.Normalize((0.1307,), (0.3081,)),\n",
    "                                transforms.Resize((IMAGE_SIZE, IMAGE_SIZE)),\n",
    "                                ThresholdTransform(thr_255=0)])"
   ]
  },
  {
   "cell_type": "code",
   "execution_count": 9,
   "id": "ad614e1d",
   "metadata": {},
   "outputs": [
    {
     "name": "stdout",
     "output_type": "stream",
     "text": [
      "[(32, 32, 32, 0.003, 0.5, 1, 64), (32, 32, 32, 0.003, 0.5, 5, 64), (64, 32, 32, 0.003, 0.5, 1, 64), (64, 32, 32, 0.003, 0.5, 5, 64)]\n"
     ]
    },
    {
     "name": "stderr",
     "output_type": "stream",
     "text": [
      "/var/folders/8f/j0yzvf055y7c23h6ltl5b3pr0000gn/T/ipykernel_83649/1917398667.py:32: UserWarning: Implicit dimension choice for log_softmax has been deprecated. Change the call to include dim=X as an argument.\n",
      "  return self.logsoftmax(x)\n"
     ]
    },
    {
     "name": "stdout",
     "output_type": "stream",
     "text": [
      "(32, 32, 32, 0.003, 0.5, 1, 64) space 0/3 HW_acc: tensor(72.5900) SW_acc: tensor(81.5200)\n",
      "(32, 32, 32, 0.003, 0.5, 5, 64) space 1/3 HW_acc: tensor(61.1400) SW_acc: tensor(86.7300)\n",
      "(64, 32, 32, 0.003, 0.5, 1, 64) space 2/3 HW_acc: tensor(67.1300) SW_acc: tensor(85.3600)\n",
      "(64, 32, 32, 0.003, 0.5, 5, 64) space 3/3 HW_acc: tensor(73.5100) SW_acc: tensor(90.3000)\n"
     ]
    }
   ],
   "source": [
    "res = []\n",
    "\n",
    "HL_1 = [32, 64]\n",
    "HL_2 = [32]\n",
    "HL_3 = [32]\n",
    "LR = [0.003]\n",
    "DO = [0.5]\n",
    "EPOCH_N = [1,5]\n",
    "BATCH_N = [64]\n",
    "\n",
    "search_space = []\n",
    "import itertools\n",
    "#search_space[   0     1       2    3  4     5       6  ]\n",
    "#search_space[layer1,layer2,layer3,LR,DO,EPOCH_N,BATCH_N]\n",
    "for r in itertools.product(HL_1,HL_2,HL_3,LR,DO,EPOCH_N,BATCH_N): search_space.append((r[0],r[1],r[2],r[3],r[4],r[5],r[6]))\n",
    "\n",
    "print(search_space)\n",
    "# Outer loop with the search space\n",
    "for space_idx, space in enumerate(search_space):\n",
    "    \n",
    "    model_sw = BNN_SW(in_features = IMAGE_SIZE*IMAGE_SIZE,\n",
    "                      HL_1 = space[0],\n",
    "                      HL_2 = space[1],\n",
    "                      HL_3 = space[2],\n",
    "                      dropout = space[4])\n",
    "    \n",
    "    model_hw = BNN_HW(in_features = IMAGE_SIZE*IMAGE_SIZE,\n",
    "                      HL_1 = space[0],\n",
    "                      HL_2 = space[1],\n",
    "                      HL_3 = space[2])\n",
    "\n",
    "    train_data = datasets.MNIST('../data', train=True, download=True, transform=transform)\n",
    "    test_data = datasets.MNIST('../data', train=False, download=True, transform=transform)\n",
    "\n",
    "    train_loader = DataLoader(train_data, batch_size=space[6], shuffle=True)\n",
    "    test_loader = DataLoader(test_data)\n",
    "\n",
    "    # Inner loop for epochs \n",
    "    for epoch in range(1, space[5] + 1):\n",
    "        train(epoch,model_sw,space_idx,space[3])\n",
    "    \n",
    "    accuracy_sw = test_sw(model_sw)\n",
    "    \n",
    "    model_hw.fc1.weight = model_sw.fc1.weight\n",
    "    model_hw.fc2.weight = model_sw.fc2.weight\n",
    "    model_hw.fc3.weight = model_sw.fc3.weight\n",
    "    model_hw.fc4.weight = model_sw.fc4.weight\n",
    "       \n",
    "    accuracy_hw = test_hw(model_hw)\n",
    "    \n",
    "    print(space,'space {}/{}'.format(space_idx,len(search_space)-1),\"HW_acc:\",accuracy_hw,\"SW_acc:\",accuracy_sw)\n",
    "    res.append(('H1{}-H2{}-H3{}-LR{}-DO{}-EPOCH{}-BATCH{}'.format(space[0],space[1],space[2],space[3],space[4],space[5],space[6]),accuracy_sw.item(),accuracy_hw.item()))\n",
    "    \n",
    "    del model_sw\n",
    "    del model_hw "
   ]
  },
  {
   "cell_type": "code",
   "execution_count": 15,
   "id": "4a6c25e7",
   "metadata": {},
   "outputs": [
    {
     "name": "stdout",
     "output_type": "stream",
     "text": [
      "4\n"
     ]
    },
    {
     "data": {
      "image/png": "[encoded data removed]",
      "text/plain": [
       "<Figure size 1080x720 with 1 Axes>"
      ]
     },
     "metadata": {
      "needs_background": "light"
     },
     "output_type": "display_data"
    }
   ],
   "source": [
    "#Script to save file with results in csv and an image result \n",
    "\n",
    "res = np.array(res,dtype=object)\n",
    "np.savetxt(\"optimize.csv\", res, fmt = '%s,%f,%f', delimiter = \",\")\n",
    "print(len(res))\n",
    "fig = plt.figure(figsize=(15,10))\n",
    "x = np.arange(len(res))\n",
    "plt.plot(x,res[:,1],label=\"HW\")\n",
    "plt.plot(x,res[:,2],label=\"SW\")\n",
    "my_xticks = res[:,0]\n",
    "plt.ylabel(\"Accuracy\")\n",
    "plt.xticks(x, my_xticks)\n",
    "plt.legend(loc=\"best\")\n",
    "degrees = 70\n",
    "plt.xticks(rotation=degrees)\n",
    "plt.savefig(\"optimize.jpg\",bbox_inches='tight', dpi=150)\n"
   ]
  },
  {
   "cell_type": "code",
   "execution_count": null,
   "id": "07791f0c",
   "metadata": {},
   "outputs": [],
   "source": [
    "res"
   ]
  },
  {
   "cell_type": "code",
   "execution_count": null,
   "id": "1fc630f4",
   "metadata": {},
   "outputs": [],
   "source": [
    "res = np.array(res)\n",
    "res[:,0]"
   ]
  },
  {
   "cell_type": "code",
   "execution_count": null,
   "id": "1fbd535a",
   "metadata": {},
   "outputs": [],
   "source": [
    "TRAIN_LOSS = []\n",
    "TRAIN_LOSS.append((1,2,3))\n",
    "TRAIN_LOSS.append((5,5,5))\n",
    "TRAIN_LOSS"
   ]
  },
  {
   "cell_type": "code",
   "execution_count": null,
   "id": "fbd50bc4",
   "metadata": {},
   "outputs": [],
   "source": [
    "from tqdm import tqdm\n"
   ]
  }
 ],
 "metadata": {
  "kernelspec": {
   "display_name": "Python 3 (ipykernel)",
   "language": "python",
   "name": "python3"
  },
  "language_info": {
   "codemirror_mode": {
    "name": "ipython",
    "version": 3
   },
   "file_extension": ".py",
   "mimetype": "text/x-python",
   "name": "python",
   "nbconvert_exporter": "python",
   "pygments_lexer": "ipython3",
   "version": "3.9.12"
  }
 },
 "nbformat": 4,
 "nbformat_minor": 5
}
